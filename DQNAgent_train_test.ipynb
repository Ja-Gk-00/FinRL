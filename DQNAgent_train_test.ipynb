{
 "cells": [
  {
   "cell_type": "code",
   "execution_count": 2,
   "metadata": {},
   "outputs": [
    {
     "name": "stderr",
     "output_type": "stream",
     "text": [
      "[*********************100%***********************]  1 of 1 completed\n",
      "[*********************100%***********************]  1 of 1 completed\n"
     ]
    },
    {
     "name": "stdout",
     "output_type": "stream",
     "text": [
      "\n",
      "Training the DQN Agent (simple architecture)...\n",
      "\n",
      "Testing the DQN Agent (simple architecture)...\n",
      "\n",
      "Training the DQN Agent (medium architecture)...\n",
      "\n",
      "Testing the DQN Agent (medium architecture)...\n",
      "\n",
      "Training the DQN Agent (complex architecture)...\n",
      "\n",
      "Testing the DQN Agent (complex architecture)...\n"
     ]
    }
   ],
   "source": [
    "from Rl.environments.EnvironmentFinance import FinanceEnvironment\n",
    "from Rl.agents.DQNAgent import DQNAgent\n",
    "import os\n",
    "import pandas as pd\n",
    "# Workflow\n",
    "results_folder = \"dqn_results\"\n",
    "os.makedirs(results_folder, exist_ok=True)\n",
    "\n",
    "architectures = [\"simple\", \"medium\", \"complex\"]\n",
    "train_env = FinanceEnvironment(ticker='AAPL', start_date='2020-01-01', end_date='2020-12-31')\n",
    "test_env = FinanceEnvironment(ticker='AAPL', start_date='2021-01-01', end_date='2021-12-31')\n",
    "results = {}\n",
    "\n",
    "for arch in architectures:\n",
    "    print(f\"\\nTraining the DQN Agent ({arch} architecture)...\")\n",
    "    agent = DQNAgent(state_size=4, action_size=3, architecture=arch)\n",
    "    agent.train_agent(train_env, episodes=50)\n",
    "\n",
    "    print(f\"\\nTesting the DQN Agent ({arch} architecture)...\")\n",
    "    state = test_env.reset()\n",
    "    test_portfolios = []\n",
    "    for step in range(test_env.total_steps - 1):\n",
    "        action = agent.choose_action(state)\n",
    "        next_state, reward, done = test_env.step(action)\n",
    "        agent.remember(state, action, reward, next_state, done)\n",
    "        agent.replay()\n",
    "        test_portfolios.append(test_env.portfolio_value)\n",
    "        state = next_state\n",
    "        if done:\n",
    "            break\n",
    "    results[arch] = test_portfolios\n",
    "    pd.DataFrame({'Step': range(len(test_portfolios)), 'Portfolio Value': test_portfolios}).to_csv(\n",
    "        os.path.join(results_folder, f\"dqn_test_logs_{arch}.csv\"), index=False)"
   ]
  }
 ],
 "metadata": {
  "kernelspec": {
   "display_name": "base",
   "language": "python",
   "name": "python3"
  },
  "language_info": {
   "codemirror_mode": {
    "name": "ipython",
    "version": 3
   },
   "file_extension": ".py",
   "mimetype": "text/x-python",
   "name": "python",
   "nbconvert_exporter": "python",
   "pygments_lexer": "ipython3",
   "version": "3.11.4"
  },
  "orig_nbformat": 4
 },
 "nbformat": 4,
 "nbformat_minor": 2
}
